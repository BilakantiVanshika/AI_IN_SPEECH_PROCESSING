{
 "cells": [
  {
   "cell_type": "code",
   "execution_count": 1,
   "id": "68f7fbbb",
   "metadata": {},
   "outputs": [
    {
     "name": "stdout",
     "output_type": "stream",
     "text": [
      "Requirement already satisfied: librosa in c:\\users\\vansh\\anaconda3\\lib\\site-packages (0.10.1)\n",
      "Collecting hmmlearn\n",
      "  Downloading hmmlearn-0.3.2-cp39-cp39-win_amd64.whl (124 kB)\n",
      "Requirement already satisfied: audioread>=2.1.9 in c:\\users\\vansh\\anaconda3\\lib\\site-packages (from librosa) (3.0.1)\n",
      "Requirement already satisfied: joblib>=0.14 in c:\\users\\vansh\\anaconda3\\lib\\site-packages (from librosa) (1.1.0)\n",
      "Requirement already satisfied: scipy>=1.2.0 in c:\\users\\vansh\\anaconda3\\lib\\site-packages (from librosa) (1.7.3)\n",
      "Requirement already satisfied: lazy-loader>=0.1 in c:\\users\\vansh\\anaconda3\\lib\\site-packages (from librosa) (0.3)\n",
      "Requirement already satisfied: msgpack>=1.0 in c:\\users\\vansh\\anaconda3\\lib\\site-packages (from librosa) (1.0.2)\n",
      "Requirement already satisfied: soundfile>=0.12.1 in c:\\users\\vansh\\anaconda3\\lib\\site-packages (from librosa) (0.12.1)\n",
      "Requirement already satisfied: scikit-learn>=0.20.0 in c:\\users\\vansh\\anaconda3\\lib\\site-packages (from librosa) (1.0.2)\n",
      "Requirement already satisfied: numpy!=1.22.0,!=1.22.1,!=1.22.2,>=1.20.3 in c:\\users\\vansh\\anaconda3\\lib\\site-packages (from librosa) (1.21.6)\n",
      "Requirement already satisfied: soxr>=0.3.2 in c:\\users\\vansh\\anaconda3\\lib\\site-packages (from librosa) (0.3.7)\n",
      "Requirement already satisfied: typing-extensions>=4.1.1 in c:\\users\\vansh\\anaconda3\\lib\\site-packages (from librosa) (4.9.0)\n",
      "Requirement already satisfied: pooch>=1.0 in c:\\users\\vansh\\anaconda3\\lib\\site-packages (from librosa) (1.8.0)\n",
      "Requirement already satisfied: numba>=0.51.0 in c:\\users\\vansh\\anaconda3\\lib\\site-packages (from librosa) (0.55.1)\n",
      "Requirement already satisfied: decorator>=4.3.0 in c:\\users\\vansh\\anaconda3\\lib\\site-packages (from librosa) (5.1.1)\n",
      "Requirement already satisfied: setuptools in c:\\users\\vansh\\anaconda3\\lib\\site-packages (from numba>=0.51.0->librosa) (61.2.0)\n",
      "Requirement already satisfied: llvmlite<0.39,>=0.38.0rc1 in c:\\users\\vansh\\anaconda3\\lib\\site-packages (from numba>=0.51.0->librosa) (0.38.0)\n",
      "Requirement already satisfied: requests>=2.19.0 in c:\\users\\vansh\\anaconda3\\lib\\site-packages (from pooch>=1.0->librosa) (2.27.1)\n",
      "Requirement already satisfied: packaging>=20.0 in c:\\users\\vansh\\anaconda3\\lib\\site-packages (from pooch>=1.0->librosa) (21.3)\n",
      "Requirement already satisfied: platformdirs>=2.5.0 in c:\\users\\vansh\\anaconda3\\lib\\site-packages (from pooch>=1.0->librosa) (4.2.0)\n",
      "Requirement already satisfied: pyparsing!=3.0.5,>=2.0.2 in c:\\users\\vansh\\anaconda3\\lib\\site-packages (from packaging>=20.0->pooch>=1.0->librosa) (3.0.4)\n",
      "Requirement already satisfied: urllib3<1.27,>=1.21.1 in c:\\users\\vansh\\anaconda3\\lib\\site-packages (from requests>=2.19.0->pooch>=1.0->librosa) (1.26.9)\n",
      "Requirement already satisfied: charset-normalizer~=2.0.0 in c:\\users\\vansh\\anaconda3\\lib\\site-packages (from requests>=2.19.0->pooch>=1.0->librosa) (2.0.4)\n",
      "Requirement already satisfied: certifi>=2017.4.17 in c:\\users\\vansh\\anaconda3\\lib\\site-packages (from requests>=2.19.0->pooch>=1.0->librosa) (2021.10.8)\n",
      "Requirement already satisfied: idna<4,>=2.5 in c:\\users\\vansh\\anaconda3\\lib\\site-packages (from requests>=2.19.0->pooch>=1.0->librosa) (3.3)\n",
      "Requirement already satisfied: threadpoolctl>=2.0.0 in c:\\users\\vansh\\anaconda3\\lib\\site-packages (from scikit-learn>=0.20.0->librosa) (2.2.0)\n",
      "Requirement already satisfied: cffi>=1.0 in c:\\users\\vansh\\anaconda3\\lib\\site-packages (from soundfile>=0.12.1->librosa) (1.15.0)\n",
      "Requirement already satisfied: pycparser in c:\\users\\vansh\\anaconda3\\lib\\site-packages (from cffi>=1.0->soundfile>=0.12.1->librosa) (2.21)\n",
      "Installing collected packages: hmmlearn\n",
      "Successfully installed hmmlearn-0.3.2\n"
     ]
    }
   ],
   "source": [
    "!pip install librosa hmmlearn"
   ]
  },
  {
   "cell_type": "code",
   "execution_count": 4,
   "id": "a8b67bd1",
   "metadata": {},
   "outputs": [
    {
     "name": "stderr",
     "output_type": "stream",
     "text": [
      "Fitting a model with 1580558 free scalar parameters with only 192700 data points will result in a degenerate solution.\n",
      "Model is not converging.  Current: 1241537.2369627052 is not greater than 1241537.2369748675. Delta is -1.2162374332547188e-05\n"
     ]
    },
    {
     "name": "stdout",
     "output_type": "stream",
     "text": [
      "Predicted labels: [2 1 2 1 2 1 2 1 2 1 2 2 1 2 1 2 1 2 1 2 1 2 1 2 1 2 1 2 1 2 1 2 1 2 1 2 1\n",
      " 2 1 2 1 2 1 2 1 2 1 2 1 2 1 2 1 2 2 1 0 0 0 0 0 0 0 0 0 2 1 2 1 2 1 2 1 2\n",
      " 1 2 1 2 1 2 1 2 1 2 1 2 1 2 1 2 1 2 1 2 1 2 1 2 1 2 1 2 1 2 1 2 1 2 1 2 1\n",
      " 2 1 2 1 2 1 2 1 2 1 2 1 2 1 2 1 2 1 2 1 2 2 1 2 1 2 1 2 1 2 1 2 1 2 1 2 1\n",
      " 2 1 2 1 2 1 2 1 2 1 2 2 1 2 1 2 1 2 1 2 1 2 1 2 1 2 1 2 1 2 1 2 1 2 1 2 1\n",
      " 2 1 2]\n"
     ]
    }
   ],
   "source": [
    "import numpy as np\n",
    "import librosa\n",
    "from hmmlearn import hmm\n",
    " \n",
    "# Load the audio file\n",
    "file_path = 'speech.wav'\n",
    "signal, sr = librosa.load(file_path, sr=None)\n",
    " \n",
    "# Extract STFT features\n",
    "stft = np.abs(librosa.stft(signal))\n",
    " \n",
    "# Convert STFT features to observation sequence\n",
    "obs_seq = np.transpose(stft)\n",
    " \n",
    "# Train an HMM model\n",
    "num_states = 3  # Number of states in the HMM\n",
    "num_mix = 1     # Number of mixtures in each state\n",
    "model = hmm.GaussianHMM(n_components=num_states, covariance_type=\"full\", n_iter=100)\n",
    "model.fit(obs_seq)\n",
    " \n",
    "# Classify using trained HMM model\n",
    "predicted_labels = model.predict(obs_seq)\n",
    " \n",
    "# Output the predicted labels\n",
    "print(\"Predicted labels:\", predicted_labels)"
   ]
  },
  {
   "cell_type": "code",
   "execution_count": null,
   "id": "01a9e6c8",
   "metadata": {},
   "outputs": [],
   "source": []
  }
 ],
 "metadata": {
  "kernelspec": {
   "display_name": "Python 3 (ipykernel)",
   "language": "python",
   "name": "python3"
  },
  "language_info": {
   "codemirror_mode": {
    "name": "ipython",
    "version": 3
   },
   "file_extension": ".py",
   "mimetype": "text/x-python",
   "name": "python",
   "nbconvert_exporter": "python",
   "pygments_lexer": "ipython3",
   "version": "3.9.12"
  }
 },
 "nbformat": 4,
 "nbformat_minor": 5
}
